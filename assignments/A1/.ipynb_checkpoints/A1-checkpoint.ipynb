{
 "cells": [
  {
   "cell_type": "markdown",
   "metadata": {
    "id": "tEd-mtF0PTrv"
   },
   "source": [
    "# Assignment 1\n",
    "You should submit the **UniversityNumber.ipynb** file and your final prediction file **UniversityNumber.test.out** to Moodle. Make sure your code does not use your local files and that the results are reproducible. Before submitting, please **run your notebook and keep all running logs** so that we can check."
   ]
  },
  {
   "cell_type": "markdown",
   "metadata": {
    "id": "f8c9YBduQCI4"
   },
   "source": [
    "## 1 $n$-gram Language Model\n",
    "**Q1**: Expand the above definition of $ p(\\vec{w})$ using naive estimates of the parameters, such as $  p(w_4 \\mid w_2, w_3) \\stackrel{\\tiny{\\mbox{def}}}{=}  \\frac{C(w_2~w_3~w_4)}{C(w_2~w_3)} $ where \\( C(w_2 w_3 w_4) \\) denotes the count of times the trigram $ w_2 w_3 w_4 $ was observed in a training corpus."
   ]
  },
  {
   "cell_type": "markdown",
   "metadata": {
    "id": "SMQ_Z1g8QZef"
   },
   "source": [
    "**Write your answer:**\n",
    "\n",
    "\\begin{align}\n",
    "p(\\vec{w}) &= \\frac{C(w_1)}{C(W)} \\cdot \\frac{C(w_1w_2)}{C(w_1)} \\cdot \\frac{C(w_1w_2w_3)}{C(w_1w_2)} \\cdot \\frac{C(w_2w_3w_4)}{C(w_2w_3)} \\dots \\frac{C(w_{n-2}w_{n-1}w)}{C(w_{n-2}w_{n-1})} \\\\\n",
    "&= \\frac{1}{C(W)} \\cdot \\frac{1}{1} \\cdot \\frac{C{w_1w_2w_3}}{1} \\cdot \\frac{C(w_2w_3w_4)}{C(w_2w_3)} \\dots \\frac{C(w_{n-2}w_{n-1}w)}{C(w_{n-2}w_{n-1})} \\\\\n",
    "&= \\frac{C{w_1w_2w_3}}{C(W)} \\cdot \\frac{C(w_2w_3w_4)}{C(w_2w_3)} \\dots \\frac{C(w_{n-2}w_{n-1}w)}{C(w_{n-2}w_{n-1})} \\\\\n",
    "\\end{align}\n",
    "\n"
   ]
  },
  {
   "cell_type": "markdown",
   "metadata": {
    "id": "CmgExbf1QtCH"
   },
   "source": [
    "**Q2**: One could also define a kind of reversed trigram language model $p_{reversed}$ that instead assumed the words were generated in reverse order (from right to left):\n",
    "\\begin{align} p_{reversed}(\\vec{w}) \\stackrel{\\tiny{\\mbox{def}}}{=}&p(w_n) \\cdot p(w_{n-1} \\mid w_n) \\cdot p(w_{n-2} \\mid w_{n-1} w_n) \\cdot p(w_{n-3} \\mid w_{n-2} w_{n-1}) \\\\ &\\cdots p(w_2 \\mid w_3 w_4) \\cdot p(w_1 \\mid w_2 w_3) \\end{align}\n",
    "By manipulating the notation, show that the two models are identical, i.e., $ p(\\vec{w}) = p_{reversed}(\\vec{w}) $ for any $ \\vec{w} $ provided that both models use MLE parameters estimated from the same training data (see Q1 above)."
   ]
  },
  {
   "cell_type": "markdown",
   "metadata": {
    "id": "Qm1ZGFIaRPCP"
   },
   "source": [
    "**Write your answer:**\n",
    "\n",
    "\\begin{align}\n",
    "p_{reversed}(\\vec{w}) &=\\frac{C(w_1w_2w_3)}{C(w_2w_3)} \\cdot \\frac{C(w_2w_3w_4)}{C(w_3w_4)} \\dots \\frac{C(w_{n-3}w_{n-2}w_{n-1})}{C(w_{n-2}w_{n-1})} \\cdot \\frac{C(w_{n-2}w_{n-1}w)}{C({w_{n-1}w_n})} \\cdot \\frac{C(w_{n-1}w_n)}{C(w_n)} \\cdot \\frac{C(w_n)}{C(W)} \\\\\n",
    "&= \\frac{C(w_1w_2w_3)}{1} \\cdot \\frac{C(w_2w_3w_4)}{C(w_2w_3)} \\cdot \\frac{C(w_3w_4w_5)}{C(w_3w_4)} \\dots \\frac{C(w_{n-2}w_{n-1}w)}{C(w_{n-2}w_{n-1})} \\cdot \\frac{C(w_{n-1}w_n)}{C(w_{n-1}w_n)} \\cdot \\frac{C(w_n)}{C(w_n)} \\cdot \\frac{1}{C(W)} \\\\\n",
    "&= \\frac{C(w_1w_2w_3)}{C(W)} \\cdot \\frac{C(w_2w_3w_4)}{C(w_2w_3)} \\cdot \\frac{C(w_3w_4w_5)}{C(w_3w_4)} \\dots \\frac{C(w_{n-2}w_{n-1}w)}{C(w_{n-2}w_{n-1})} \\\\\n",
    "\\end{align}\n",
    "\n",
    "Now, with some simplification, we can show that the formula of $p_{reversed}(\\vec{w})$ is the same as the one of $p(\\vec{w})$ answered in the previous question.\n"
   ]
  },
  {
   "cell_type": "markdown",
   "metadata": {
    "id": "MQEc5kz4RniG"
   },
   "source": [
    "## 2 $N$-gram Language Model Implementation"
   ]
  },
  {
   "cell_type": "code",
   "execution_count": 1,
   "metadata": {
    "id": "3kSwtN79jWgp"
   },
   "outputs": [
    {
     "name": "stdout",
     "output_type": "stream",
     "text": [
      "zsh:1: command not found: wget\n",
      "zsh:1: command not found: wget\n",
      "zsh:1: command not found: wget\n"
     ]
    }
   ],
   "source": [
    "!wget -O train.txt https://raw.githubusercontent.com/qtli/COMP7607-Fall2023/master/assignments/A1/data/lm/train.txt\n",
    "!wget -O dev.txt https://raw.githubusercontent.com/qtli/COMP7607-Fall2023/master/assignments/A1/data/lm/dev.txt\n",
    "!wget -O test.txt https://raw.githubusercontent.com/qtli/COMP7607-Fall2023/master/assignments/A1/data/lm/test.txt"
   ]
  },
  {
   "cell_type": "markdown",
   "metadata": {
    "id": "W9HCVQwqkTc_"
   },
   "source": [
    "### 2.1 Building vocabulary"
   ]
  },
  {
   "cell_type": "markdown",
   "metadata": {
    "id": "-KhFKCzwkaTn"
   },
   "source": [
    "**Code**\n",
    "\n",
    "\\# todo\n"
   ]
  },
  {
   "cell_type": "code",
   "execution_count": 2,
   "metadata": {
    "collapsed": false,
    "jupyter": {
     "outputs_hidden": false
    },
    "pycharm": {
     "name": "#%%\n"
    }
   },
   "outputs": [
    {
     "name": "stdout",
     "output_type": "stream",
     "text": [
      "yes\n"
     ]
    }
   ],
   "source": [
    "print('yes')"
   ]
  },
  {
   "cell_type": "markdown",
   "metadata": {},
   "source": []
  },
  {
   "cell_type": "markdown",
   "metadata": {
    "id": "JLQNsUA5kfZe"
   },
   "source": [
    "**Discussion**\n",
    "\n",
    "\\# todo\n",
    "\n"
   ]
  },
  {
   "cell_type": "markdown",
   "metadata": {
    "id": "fJzDNMVikkeX"
   },
   "source": [
    "### 2.2 $N$-gram Language Modeling"
   ]
  },
  {
   "cell_type": "markdown",
   "metadata": {
    "id": "Xxkcs2HykuR2"
   },
   "source": [
    "**Code**\n",
    "\n",
    "\\# todo\n",
    "\n"
   ]
  },
  {
   "cell_type": "markdown",
   "metadata": {
    "id": "o3o9Nez8kvYm"
   },
   "source": [
    "**Discussion**\n",
    "\n",
    "\\# todo\n",
    "\n"
   ]
  },
  {
   "cell_type": "markdown",
   "metadata": {
    "id": "BOQUqM73kzf-"
   },
   "source": [
    "### 2.3 Smoothing"
   ]
  },
  {
   "cell_type": "markdown",
   "metadata": {
    "id": "2LgXRmJwk3Y-"
   },
   "source": [
    "#### 2.3.1 Add-one (Laplace) smoothing"
   ]
  },
  {
   "cell_type": "markdown",
   "metadata": {
    "id": "lFG7jCIRk7Qw"
   },
   "source": [
    "**Code**\n",
    "\n",
    "\\# todo\n",
    "\n"
   ]
  },
  {
   "cell_type": "markdown",
   "metadata": {
    "id": "36yTKPXFk8f2"
   },
   "source": [
    "**Discussion**\n",
    "\n",
    "\\# todo\n",
    "\n"
   ]
  },
  {
   "cell_type": "markdown",
   "metadata": {
    "id": "Z8cFbczqlBR_"
   },
   "source": [
    "#### 2.3.2: Add-$k$ smoothing"
   ]
  },
  {
   "cell_type": "markdown",
   "metadata": {
    "id": "uV_ZiAgIlPUu"
   },
   "source": [
    "**Code**\n",
    "\n",
    "\\# todo\n",
    "\n"
   ]
  },
  {
   "cell_type": "markdown",
   "metadata": {
    "id": "UHFNf8OIlQ0O"
   },
   "source": [
    "**Discussion**\n",
    "\n",
    "\\# todo\n",
    "\n"
   ]
  },
  {
   "cell_type": "markdown",
   "metadata": {
    "id": "AjKEO_TqlUrX"
   },
   "source": [
    "#### 2.3.3 Linear Interpolation"
   ]
  },
  {
   "cell_type": "markdown",
   "metadata": {
    "id": "pcdd4cvYlZuO"
   },
   "source": [
    "**Code**\n",
    "\n",
    "\\# todo\n",
    "\n"
   ]
  },
  {
   "cell_type": "markdown",
   "metadata": {
    "id": "QyKqmQ37lcH2"
   },
   "source": [
    "**Discussion**\n",
    "\n",
    "\\# todo\n",
    "\n"
   ]
  },
  {
   "cell_type": "markdown",
   "metadata": {
    "id": "xzSbk2bClf3u"
   },
   "source": [
    "##### **Optimization**:\n",
    "\n",
    "\\# todo"
   ]
  },
  {
   "cell_type": "markdown",
   "metadata": {
    "id": "MgTcTlLuloHu"
   },
   "source": [
    "## 3 Preposition Prediction"
   ]
  },
  {
   "cell_type": "code",
   "execution_count": null,
   "metadata": {
    "id": "7jb0OQ-yltc3"
   },
   "outputs": [],
   "source": [
    "!wget -O dev.in https://raw.githubusercontent.com/qtli/COMP7607-Fall2023/master/assignments/A1/data/prep/dev.in\n",
    "!wget -O dev.out https://github.com/qtli/COMP7607-Fall2023/blob/master/assignments/A1/data/prep/dev.out"
   ]
  }
 ],
 "metadata": {
  "colab": {
   "provenance": []
  },
  "kernelspec": {
   "display_name": "Python 3 (ipykernel)",
   "language": "python",
   "name": "python3"
  },
  "language_info": {
   "codemirror_mode": {
    "name": "ipython",
    "version": 3
   },
   "file_extension": ".py",
   "mimetype": "text/x-python",
   "name": "python",
   "nbconvert_exporter": "python",
   "pygments_lexer": "ipython3",
   "version": "3.10.9"
  }
 },
 "nbformat": 4,
 "nbformat_minor": 4
}
